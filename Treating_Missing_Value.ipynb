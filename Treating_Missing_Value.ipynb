{
  "nbformat": 4,
  "nbformat_minor": 0,
  "metadata": {
    "colab": {
      "provenance": []
    },
    "kernelspec": {
      "name": "python3",
      "display_name": "Python 3"
    },
    "language_info": {
      "name": "python"
    }
  },
  "cells": [
    {
      "cell_type": "markdown",
      "source": [
        "Treating the missing values"
      ],
      "metadata": {
        "id": "fhbifFbOzSu7"
      }
    },
    {
      "cell_type": "code",
      "source": [
        "print(records.isnull().sum()) #finding the values missing\n"
      ],
      "metadata": {
        "colab": {
          "base_uri": "https://localhost:8080/"
        },
        "id": "Ckk_9ZEAi-SW",
        "outputId": "5fe867aa-280f-4ed1-e73c-1b758cbb592a"
      },
      "execution_count": null,
      "outputs": [
        {
          "output_type": "stream",
          "name": "stdout",
          "text": [
            "                          0\n",
            "address                   0\n",
            "name                      0\n",
            "phone                   884\n",
            "location                  0\n",
            "rest_type                 0\n",
            "cuisines                 18\n",
            "menu_item                 0\n",
            "listed_in_type            0\n",
            "listed_in_city            0\n",
            "online_order              0\n",
            "book_table                0\n",
            "ave_cost_for_two        240\n",
            "dish_liked            22779\n",
            "votes                     0\n",
            "ave_review_ranking     6379\n",
            "rate                   8336\n",
            "dtype: int64\n"
          ]
        }
      ]
    },
    {
      "cell_type": "markdown",
      "source": [
        "Missing Values:\n",
        "Removing data points which are null, in the \"rate\" column from the dataset, because the column \"rate\" is our label."
      ],
      "metadata": {
        "id": "8YKP2IV0nLbr"
      }
    },
    {
      "cell_type": "code",
      "source": [
        "#removing all the rows from the dataset which have no values in the\"rate\" column as it is our label....\n",
        "records = records.dropna(subset=['rate'])"
      ],
      "metadata": {
        "id": "bkiMuVXpmtJ-"
      },
      "execution_count": null,
      "outputs": []
    },
    {
      "cell_type": "code",
      "source": [
        "print(records.isnull().sum())"
      ],
      "metadata": {
        "colab": {
          "base_uri": "https://localhost:8080/"
        },
        "id": "4d34jQIVm22f",
        "outputId": "0de18cce-7b6d-46ed-c77e-ee8c6a924ae6"
      },
      "execution_count": null,
      "outputs": [
        {
          "output_type": "stream",
          "name": "stdout",
          "text": [
            "                          0\n",
            "address                   0\n",
            "name                      0\n",
            "phone                   634\n",
            "location                  0\n",
            "rest_type                 0\n",
            "cuisines                  8\n",
            "menu_item                 0\n",
            "listed_in_type            0\n",
            "listed_in_city            0\n",
            "online_order              0\n",
            "book_table                0\n",
            "ave_cost_for_two        178\n",
            "dish_liked            14551\n",
            "votes                     0\n",
            "ave_review_ranking      914\n",
            "rate                      0\n",
            "dtype: int64\n"
          ]
        }
      ]
    },
    {
      "cell_type": "code",
      "source": [
        "# there are four columns with missing values phone, ave_cost_for_two, dish_liked and ave_review_ranking\n",
        "\n",
        "#for ave_cost_for_two we re taking the median and filling the missing data points\n",
        "records['ave_cost_for_two'].fillna(records['ave_cost_for_two'].median(), inplace=True)"
      ],
      "metadata": {
        "colab": {
          "base_uri": "https://localhost:8080/"
        },
        "id": "kFp-izN3nJTc",
        "outputId": "6c5f832a-1e41-4056-ffaa-ae34bbee0085"
      },
      "execution_count": null,
      "outputs": [
        {
          "output_type": "stream",
          "name": "stderr",
          "text": [
            "<ipython-input-11-fd548ad1245c>:4: SettingWithCopyWarning: \n",
            "A value is trying to be set on a copy of a slice from a DataFrame\n",
            "\n",
            "See the caveats in the documentation: https://pandas.pydata.org/pandas-docs/stable/user_guide/indexing.html#returning-a-view-versus-a-copy\n",
            "  records['ave_cost_for_two'].fillna(records['ave_cost_for_two'].median(), inplace=True)\n"
          ]
        }
      ]
    },
    {
      "cell_type": "code",
      "source": [
        "print(records.isnull().sum())"
      ],
      "metadata": {
        "colab": {
          "base_uri": "https://localhost:8080/"
        },
        "id": "AxJqyGNrtOqW",
        "outputId": "eda67fa6-378e-4c0f-ca15-b8d64fd38223"
      },
      "execution_count": null,
      "outputs": [
        {
          "output_type": "stream",
          "name": "stdout",
          "text": [
            "                          0\n",
            "address                   0\n",
            "name                      0\n",
            "phone                   634\n",
            "location                  0\n",
            "rest_type                 0\n",
            "cuisines                  8\n",
            "menu_item                 0\n",
            "listed_in_type            0\n",
            "listed_in_city            0\n",
            "online_order              0\n",
            "book_table                0\n",
            "ave_cost_for_two          0\n",
            "dish_liked            14551\n",
            "votes                     0\n",
            "ave_review_ranking      914\n",
            "rate                      0\n",
            "dtype: int64\n"
          ]
        }
      ]
    },
    {
      "cell_type": "code",
      "source": [
        "# for phone column we are entering the text for now in missing places\n",
        "records['phone'].fillna('Ph Missing', inplace=True)"
      ],
      "metadata": {
        "colab": {
          "base_uri": "https://localhost:8080/"
        },
        "id": "V89OPLLRsNML",
        "outputId": "ae21402d-597c-41a2-d013-bb04be5adfe1"
      },
      "execution_count": null,
      "outputs": [
        {
          "output_type": "stream",
          "name": "stderr",
          "text": [
            "<ipython-input-13-fac59f832082>:2: SettingWithCopyWarning: \n",
            "A value is trying to be set on a copy of a slice from a DataFrame\n",
            "\n",
            "See the caveats in the documentation: https://pandas.pydata.org/pandas-docs/stable/user_guide/indexing.html#returning-a-view-versus-a-copy\n",
            "  records['phone'].fillna('Ph Missing', inplace=True)\n"
          ]
        }
      ]
    },
    {
      "cell_type": "code",
      "source": [
        "print(records.isnull().sum())"
      ],
      "metadata": {
        "colab": {
          "base_uri": "https://localhost:8080/"
        },
        "id": "WDwGJJWZtm8y",
        "outputId": "b0e3bad1-34da-499f-a83b-e9843d80406c"
      },
      "execution_count": null,
      "outputs": [
        {
          "output_type": "stream",
          "name": "stdout",
          "text": [
            "                          0\n",
            "address                   0\n",
            "name                      0\n",
            "phone                     0\n",
            "location                  0\n",
            "rest_type                 0\n",
            "cuisines                  8\n",
            "menu_item                 0\n",
            "listed_in_type            0\n",
            "listed_in_city            0\n",
            "online_order              0\n",
            "book_table                0\n",
            "ave_cost_for_two          0\n",
            "dish_liked            14551\n",
            "votes                     0\n",
            "ave_review_ranking      914\n",
            "rate                      0\n",
            "dtype: int64\n"
          ]
        }
      ]
    },
    {
      "cell_type": "code",
      "source": [
        "#for  filling dish liked column we are replacing missing with no dish\n",
        "records['dish_liked'].fillna('No Dish', inplace=True)"
      ],
      "metadata": {
        "colab": {
          "base_uri": "https://localhost:8080/"
        },
        "id": "8sUPxI4btqUU",
        "outputId": "f26ae7b2-2ed8-4f31-e66a-d95412930b5d"
      },
      "execution_count": null,
      "outputs": [
        {
          "output_type": "stream",
          "name": "stderr",
          "text": [
            "<ipython-input-15-d8e7a230f4c4>:2: SettingWithCopyWarning: \n",
            "A value is trying to be set on a copy of a slice from a DataFrame\n",
            "\n",
            "See the caveats in the documentation: https://pandas.pydata.org/pandas-docs/stable/user_guide/indexing.html#returning-a-view-versus-a-copy\n",
            "  records['dish_liked'].fillna('No Dish', inplace=True)\n"
          ]
        }
      ]
    },
    {
      "cell_type": "code",
      "source": [
        "#for finding median of the column of ave_review_ranking .............(1)\n",
        "median_ranking = records['ave_review_ranking'].median()\n",
        "#for replacing the missing values with ...(1)\n",
        "records['ave_review_ranking'].fillna(median_ranking, inplace=True)"
      ],
      "metadata": {
        "id": "_1utl1KLsfrL",
        "colab": {
          "base_uri": "https://localhost:8080/"
        },
        "outputId": "e3a62a1e-bea2-4601-f62b-ad868918aa3e"
      },
      "execution_count": null,
      "outputs": [
        {
          "output_type": "stream",
          "name": "stderr",
          "text": [
            "<ipython-input-16-220a71f640f2>:4: SettingWithCopyWarning: \n",
            "A value is trying to be set on a copy of a slice from a DataFrame\n",
            "\n",
            "See the caveats in the documentation: https://pandas.pydata.org/pandas-docs/stable/user_guide/indexing.html#returning-a-view-versus-a-copy\n",
            "  records['ave_review_ranking'].fillna(median_ranking, inplace=True)\n"
          ]
        }
      ]
    },
    {
      "cell_type": "code",
      "source": [
        "print(records.isnull().sum())"
      ],
      "metadata": {
        "colab": {
          "base_uri": "https://localhost:8080/"
        },
        "id": "GiGy51gxt_L5",
        "outputId": "903aa476-552d-4069-ed1f-1cda6847173d"
      },
      "execution_count": null,
      "outputs": [
        {
          "output_type": "stream",
          "name": "stdout",
          "text": [
            "                      0\n",
            "address               0\n",
            "name                  0\n",
            "phone                 0\n",
            "location              0\n",
            "rest_type             0\n",
            "cuisines              8\n",
            "menu_item             0\n",
            "listed_in_type        0\n",
            "listed_in_city        0\n",
            "online_order          0\n",
            "book_table            0\n",
            "ave_cost_for_two      0\n",
            "dish_liked            0\n",
            "votes                 0\n",
            "ave_review_ranking    0\n",
            "rate                  0\n",
            "dtype: int64\n"
          ]
        }
      ]
    }
  ]
}